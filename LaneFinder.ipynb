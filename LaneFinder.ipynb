{
 "cells": [
  {
   "cell_type": "code",
   "execution_count": 70,
   "metadata": {
    "collapsed": false,
    "deletable": true,
    "editable": true
   },
   "outputs": [],
   "source": [
    "import numpy as np\n",
    "import cv2\n",
    "import matplotlib.pyplot as plt\n",
    "import matplotlib.image as mpimg\n",
    " \n",
    "    "
   ]
  },
  {
   "cell_type": "code",
   "execution_count": 71,
   "metadata": {
    "collapsed": true,
    "deletable": true,
    "editable": true
   },
   "outputs": [],
   "source": [
    "def output_corners():\n",
    "    for i in range(1,21):\n",
    "        inpath = \"./camera_cal/calibration%d.jpg\" % i\n",
    "        outpath = \"./output_images/corners%d.jpg\" % i\n",
    "        \n",
    "        nx = 9\n",
    "        ny = 5 if i in [1, 4, 5] else 6\n",
    "        img = cv2.imread(inpath)\n",
    "        gray = cv2.cvtColor(img,cv2.COLOR_BGR2GRAY)\n",
    "        ret, corners = cv2.findChessboardCorners(gray, (nx, ny), None)\n",
    "        if ret:\n",
    "            cv2.drawChessboardCorners(img, (nx, ny), corners, ret)\n",
    "            cv2.imwrite(outpath, img)\n"
   ]
  },
  {
   "cell_type": "code",
   "execution_count": 72,
   "metadata": {
    "collapsed": false,
    "deletable": true,
    "editable": true
   },
   "outputs": [],
   "source": [
    "def catalog_images():\n",
    "    imgs = []\n",
    "    for i in range(1, 2):\n",
    "        inf = {}\n",
    "        inf[\"path\"] = \"./camera_cal/calibration%d.jpg\" % i\n",
    "        inf[\"undist_path\"] = \"./output_images/calibration_undist%d.jpg\" % i\n",
    "        inf[\"nx\"] = 9\n",
    "        inf[\"ny\"] = 5 if i == 1 else 6\n",
    "        imgs.append(inf)\n",
    "    return imgs\n",
    "\n",
    "def calculate_undist():\n",
    "    # make objpoints\n",
    "    # find corners\n",
    "    # calculate distortion\n",
    "    # undistort\n",
    "\n",
    "    imgs = catalog_images()\n",
    "    objpoints = []\n",
    "    imgpoints = []\n",
    "\n",
    "    for inf in imgs:\n",
    "        nx = inf[\"nx\"]\n",
    "        ny = inf[\"ny\"]\n",
    "        imgpath = inf[\"path\"]\n",
    "    \n",
    "        objp = np.zeros((nx*ny,3), np.float32)\n",
    "        objp[:,:2] = np.mgrid[0:nx, 0:ny].T.reshape(-1,2)\n",
    "        \n",
    "        img = cv2.imread(inf[\"path\"])\n",
    "        gray = cv2.cvtColor(img, cv2.COLOR_BGR2GRAY)\n",
    "        \n",
    "        img_size = gray.shape[::-1]\n",
    "        if img_size != (1280, 720):\n",
    "            continue\n",
    "\n",
    "        ret, imgp = cv2.findChessboardCorners(gray, (nx, ny), None)\n",
    "\n",
    "        if not ret:\n",
    "            continue\n",
    "            \n",
    "        objpoints.append(objp)\n",
    "        imgpoints.append(imgp)\n",
    "        \n",
    "    ret, mtx, dist, rvecs, tvecs = cv2.calibrateCamera([objp], [imgp], gray.shape[::-1], None, None)\n",
    "    \n",
    "    for inf in imgs:\n",
    "        nx = inf[\"nx\"]\n",
    "        ny = inf[\"ny\"]\n",
    "        imgpath = inf[\"path\"]\n",
    "        img = cv2.imread(inf[\"path\"])\n",
    "        gray = cv2.cvtColor(img, cv2.COLOR_BGR2GRAY)\n",
    "        img_size = gray.shape[::-1]\n",
    "        if img_size != (1280, 720):\n",
    "            continue\n",
    "        undist = cv2.undistort(img, mtx, dist, None, mtx)\n",
    "        cv2.imwrite(inf[\"undist_path\"], undist)\n",
    "        \n",
    "    return ret, mtx, dist, rvecs, tvecs\n",
    "\n",
    "\n",
    "def test_images():\n",
    "    return [\"./test_images/straight_lines%d.jpg\" % i for i in [1, 2]] + \\\n",
    "           [\"./test_images/test%d.jpg\" % i for i in range(1,7)]\n",
    "    \n",
    "def trapezoid():\n",
    "    res = np.float32([(457, 1400), (1190, 900), (1367, 900), (2150, 1400)])/2\n",
    "    \n",
    "    # made from undist_straight_lines2.jpg\n",
    "    # res = np.float32([(529, 1370), (1218, 876), (1342, 876), (2120, 1370)])/2\n",
    "    return res\n",
    "\n",
    "def trapezoid_dst():\n",
    "    \n",
    "    res = np.float32([(457, 1400), (457, 100), (2150, 100), (2150, 1400)])/2\n",
    "    \n",
    "    # res = np.float32([(529, 1370), (529, 876), (2120, 876), (2120, 1370)])/2\n",
    "    return res\n",
    "\n",
    "    \n",
    "def show_undist():\n",
    "    ret, mtx, dist, rvecs, tvecs = calculate_undist()\n",
    "    ti = test_images()\n",
    "    for path in ti:\n",
    "        img = cv2.imread(path)\n",
    "        try:\n",
    "            undist = cv2.undistort(img, mtx, dist, None, mtx)\n",
    "        except:\n",
    "            print(path)\n",
    "            print(img)\n",
    "            \n",
    "        outpath = path.replace(\"test_images/\", \"output_images/undist_\")\n",
    "        cv2.imwrite(outpath, undist)\n",
    "        \n",
    "def make_perspective_transform():\n",
    "    return cv2.getPerspectiveTransform(trapezoid(), trapezoid_dst())\n",
    "\n",
    "def make_inv_perspective_transform():\n",
    "    return cv2.getPerspectiveTransform(trapezoid_dst(), trapezoid())\n",
    "\n",
    "\n",
    "def de_perspect(img, M):\n",
    "    img_size = (img.shape[1], img.shape[0])\n",
    "    return cv2.warpPerspective(img, M, img_size, flags=cv2.INTER_LINEAR)\n",
    "    \n"
   ]
  },
  {
   "cell_type": "code",
   "execution_count": 73,
   "metadata": {
    "collapsed": false,
    "deletable": true,
    "editable": true
   },
   "outputs": [],
   "source": [
    "show_undist()"
   ]
  },
  {
   "cell_type": "code",
   "execution_count": 74,
   "metadata": {
    "collapsed": false,
    "deletable": true,
    "editable": true
   },
   "outputs": [],
   "source": [
    "output_corners()    \n",
    "    "
   ]
  },
  {
   "cell_type": "code",
   "execution_count": 75,
   "metadata": {
    "collapsed": false,
    "deletable": true,
    "editable": true
   },
   "outputs": [
    {
     "data": {
      "text/plain": [
       "array([[  228.5,   700. ],\n",
       "       [  595. ,   450. ],\n",
       "       [  683.5,   450. ],\n",
       "       [ 1075. ,   700. ]], dtype=float32)"
      ]
     },
     "execution_count": 75,
     "metadata": {},
     "output_type": "execute_result"
    }
   ],
   "source": [
    "trapezoid()"
   ]
  },
  {
   "cell_type": "code",
   "execution_count": 104,
   "metadata": {
    "collapsed": false,
    "deletable": true,
    "editable": true
   },
   "outputs": [
    {
     "data": {
      "text/plain": [
       "True"
      ]
     },
     "execution_count": 104,
     "metadata": {},
     "output_type": "execute_result"
    }
   ],
   "source": [
    "path = \"./output_images/undist_straight_lines1.jpg\"\n",
    "img = cv2.imread(path)\n",
    "%matplotlib inline\n",
    "\n",
    "M = make_perspective_transform()\n",
    "M_inv = make_inv_perspective_transform()\n",
    "warped = de_perspect(img, M)\n",
    "\n",
    "cv2.imwrite(path.replace(\"undist\", \"de_perspect\"), warped)\n",
    "    "
   ]
  },
  {
   "cell_type": "code",
   "execution_count": 105,
   "metadata": {
    "collapsed": false,
    "deletable": true,
    "editable": true
   },
   "outputs": [],
   "source": [
    "def magic_channel(img):\n",
    "    hls = cv2.cvtColor(img, cv2.COLOR_RGB2HLS).astype(np.float)\n",
    "    \n",
    "    ch1 = hls[:,:,2]\n",
    "    ch2 = img[:,:,2]\n",
    "    \n",
    "    magic = (ch1 + ch2) * ch1\n",
    "    magic = np.uint8(255 * magic/np.max(magic))\n",
    "    return magic    \n",
    "\n",
    "def edgify(magic):\n",
    "    \n",
    "    s = cv2.Sobel(magic, cv2.CV_64F, 1, 0)\n",
    "    s = np.absolute(s)\n",
    "    s = np.uint8(255 * s/np.max(s))\n",
    "    \n",
    "    res = np.zeros_like(s)\n",
    "    res[(s > 30) & (s < 200)] = 255\n",
    "    \n",
    "    return res\n",
    "\n"
   ]
  },
  {
   "cell_type": "code",
   "execution_count": 109,
   "metadata": {
    "collapsed": false,
    "deletable": true,
    "editable": true
   },
   "outputs": [],
   "source": [
    "\n",
    "def find_and_fit_poly(binary_warped, poly_degree=2):\n",
    "    histogram = np.sum(binary_warped[binary_warped.shape[0]//2:,:], axis=0)\n",
    "\n",
    "    # Find the peak of the left and right halves of the histogram\n",
    "    # These will be the starting point for the left and right lines\n",
    "    midpoint = np.int(histogram.shape[0]/2)\n",
    "    leftx_base = np.argmax(histogram[:midpoint])\n",
    "    rightx_base = np.argmax(histogram[midpoint:]) + midpoint\n",
    "\n",
    "    # Choose the number of sliding windows\n",
    "    nwindows = 9\n",
    "    # Set height of windows\n",
    "    window_height = np.int(binary_warped.shape[0]/nwindows)\n",
    "    # Identify the x and y positions of all nonzero pixels in the image\n",
    "    nonzero = binary_warped.nonzero()\n",
    "    nonzeroy = np.array(nonzero[0])\n",
    "    nonzerox = np.array(nonzero[1])\n",
    "    # Current positions to be updated for each window\n",
    "    leftx_current = leftx_base\n",
    "    rightx_current = rightx_base\n",
    "    # Set the width of the windows +/- margin\n",
    "    margin = 100\n",
    "    # Set minimum number of pixels found to recenter window\n",
    "    minpix = 50\n",
    "    # Create empty lists to receive left and right lane pixel indices\n",
    "    left_lane_inds = []\n",
    "    right_lane_inds = []\n",
    "\n",
    "    # Step through the windows one by one\n",
    "    for window in range(nwindows):\n",
    "        # Identify window boundaries in x and y (and right and left)\n",
    "        win_y_low = binary_warped.shape[0] - (window+1)*window_height\n",
    "        win_y_high = binary_warped.shape[0] - window*window_height\n",
    "        win_xleft_low = leftx_current - margin\n",
    "        win_xleft_high = leftx_current + margin\n",
    "        win_xright_low = rightx_current - margin\n",
    "        win_xright_high = rightx_current + margin\n",
    "        # Identify the nonzero pixels in x and y within the window\n",
    "        good_left_inds = ((nonzeroy >= win_y_low) & (nonzeroy < win_y_high) & (nonzerox >= win_xleft_low) & (nonzerox < win_xleft_high)).nonzero()[0]\n",
    "        good_right_inds = ((nonzeroy >= win_y_low) & (nonzeroy < win_y_high) & (nonzerox >= win_xright_low) & (nonzerox < win_xright_high)).nonzero()[0]\n",
    "        # Append these indices to the lists\n",
    "        left_lane_inds.append(good_left_inds)\n",
    "        right_lane_inds.append(good_right_inds)\n",
    "        # If you found > minpix pixels, recenter next window on their mean position\n",
    "        if len(good_left_inds) > minpix:\n",
    "            leftx_current = np.int(np.mean(nonzerox[good_left_inds]))\n",
    "        if len(good_right_inds) > minpix:        \n",
    "            rightx_current = np.int(np.mean(nonzerox[good_right_inds]))\n",
    "\n",
    "    # Concatenate the arrays of indices\n",
    "    left_lane_inds = np.concatenate(left_lane_inds)\n",
    "    right_lane_inds = np.concatenate(right_lane_inds)\n",
    "\n",
    "    # Extract left and right line pixel positions\n",
    "    leftx = nonzerox[left_lane_inds]\n",
    "    lefty = nonzeroy[left_lane_inds] \n",
    "    rightx = nonzerox[right_lane_inds]\n",
    "    righty = nonzeroy[right_lane_inds] \n",
    "\n",
    "    # Fit a second order polynomial to each\n",
    "    left_fit = np.polyfit(lefty, leftx, poly_degree)\n",
    "    right_fit = np.polyfit(righty, rightx, poly_degree)\n",
    "    return left_fit, right_fit, nonzerox, nonzeroy, left_lane_inds, right_lane_inds"
   ]
  },
  {
   "cell_type": "code",
   "execution_count": 110,
   "metadata": {
    "collapsed": false,
    "deletable": true,
    "editable": true
   },
   "outputs": [],
   "source": [
    "def draw_lane(binary_warped, left_fit, right_fit, nonzerox, nonzeroy, left_lane_inds, right_lane_inds):\n",
    "    \n",
    "    # Generate x and y values for plotting\n",
    "    out_img = np.dstack((binary_warped, binary_warped, binary_warped))*255\n",
    "    ploty = np.linspace(0, binary_warped.shape[0]-1, binary_warped.shape[0] )\n",
    "    left_fitx = left_fit[0]*ploty**2 + left_fit[1]*ploty + left_fit[2]\n",
    "    right_fitx = right_fit[0]*ploty**2 + right_fit[1]*ploty + right_fit[2]\n",
    "\n",
    "    out_img[nonzeroy[left_lane_inds], nonzerox[left_lane_inds]] = [255, 0, 0]\n",
    "    out_img[nonzeroy[right_lane_inds], nonzerox[right_lane_inds]] = [0, 0, 255]\n",
    "\n",
    "    # Create an image to draw on and an image to show the selection window\n",
    "    window_img = np.zeros_like(out_img)\n",
    "    # Color in left and right line pixels\n",
    "    out_img[nonzeroy[left_lane_inds], nonzerox[left_lane_inds]] = [255, 0, 0]\n",
    "    out_img[nonzeroy[right_lane_inds], nonzerox[right_lane_inds]] = [0, 0, 255]\n",
    "\n",
    "    # Generate a polygon to illustrate the search window area\n",
    "    # And recast the x and y points into usable format for cv2.fillPoly()\n",
    "    left_line_window1 = np.array([np.transpose(np.vstack([left_fitx-margin, ploty]))])\n",
    "    left_line_window2 = np.array([np.flipud(np.transpose(np.vstack([left_fitx+margin, ploty])))])\n",
    "    left_line_pts = np.hstack((left_line_window1, left_line_window2))\n",
    "    right_line_window1 = np.array([np.transpose(np.vstack([right_fitx-margin, ploty]))])\n",
    "    right_line_window2 = np.array([np.flipud(np.transpose(np.vstack([right_fitx+margin, ploty])))])\n",
    "    right_line_pts = np.hstack((right_line_window1, right_line_window2))\n",
    "\n",
    "    # Draw the lane onto the warped blank image\n",
    "    cv2.fillPoly(window_img, np.int_([left_line_pts]), (0,255, 0))\n",
    "    cv2.fillPoly(window_img, np.int_([right_line_pts]), (0,255, 0))\n",
    "    result = cv2.addWeighted(out_img, 1, window_img, 0.3, 0)\n",
    "\n",
    "    return window_img"
   ]
  },
  {
   "cell_type": "code",
   "execution_count": 111,
   "metadata": {
    "collapsed": false,
    "deletable": true,
    "editable": true
   },
   "outputs": [],
   "source": [
    "\n",
    "tests = [\"./output_images/undist_test%d.jpg\" % i for i in range(1, 7)]\n",
    "\n",
    "def save_img(img, name_part, to_replace=\"undist\"):\n",
    "    cv2.imwrite(path.replace(to_replace, name_part), img)\n",
    "\n",
    "for path in tests:\n",
    "    img = cv2.imread(path)\n",
    "    \n",
    "    magic = magic_channel(img)\n",
    "    save_img(magic, \"magic\")\n",
    "    \n",
    "    e = edgify(magic)\n",
    "    save_img(e, \"edgy\")\n",
    "    \n",
    "    warped = de_perspect(e, M)\n",
    "    save_img(warped, \"edgy_unwarp\")\n",
    "    \n",
    "    left_fit, right_fit, nonzerox, nonzeroy, left_lane_inds, right_lane_inds = find_and_fit_poly(warped, 2)\n",
    "    \n",
    "    lane = draw_lane(warped, left_fit, right_fit, nonzerox, nonzeroy, left_lane_inds, right_lane_inds)\n",
    "    save_img(lane, \"lane\")\n",
    "   \n",
    "    re_perspect = de_perspect(lane, M_inv)\n",
    "\n",
    "    blended = cv2.addWeighted(img, 1, re_perspect, 0.3, 0)\n",
    "    save_img(blended, \"blended\")\n",
    "\n"
   ]
  },
  {
   "cell_type": "code",
   "execution_count": null,
   "metadata": {
    "collapsed": false,
    "deletable": true,
    "editable": true
   },
   "outputs": [],
   "source": []
  },
  {
   "cell_type": "code",
   "execution_count": null,
   "metadata": {
    "collapsed": true
   },
   "outputs": [],
   "source": []
  }
 ],
 "metadata": {
  "kernelspec": {
   "display_name": "Python 3",
   "language": "python",
   "name": "python3"
  },
  "language_info": {
   "codemirror_mode": {
    "name": "ipython",
    "version": 3
   },
   "file_extension": ".py",
   "mimetype": "text/x-python",
   "name": "python",
   "nbconvert_exporter": "python",
   "pygments_lexer": "ipython3",
   "version": "3.5.2"
  },
  "widgets": {
   "state": {},
   "version": "1.1.2"
  }
 },
 "nbformat": 4,
 "nbformat_minor": 2
}
