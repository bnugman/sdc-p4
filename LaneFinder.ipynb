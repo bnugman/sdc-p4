{
 "cells": [
  {
   "cell_type": "code",
   "execution_count": 1,
   "metadata": {
    "collapsed": false,
    "deletable": true,
    "editable": true
   },
   "outputs": [],
   "source": [
    "import numpy as np\n",
    "import cv2\n",
    "import matplotlib.pyplot as plt\n",
    "import matplotlib.image as mpimg\n",
    " \n",
    "    "
   ]
  },
  {
   "cell_type": "code",
   "execution_count": 2,
   "metadata": {
    "collapsed": true,
    "deletable": true,
    "editable": true
   },
   "outputs": [],
   "source": [
    "def output_corners():\n",
    "    for i in range(1,21):\n",
    "        inpath = \"./camera_cal/calibration%d.jpg\" % i\n",
    "        outpath = \"./output_images/corners%d.jpg\" % i\n",
    "        \n",
    "        nx = 9\n",
    "        ny = 5 if i in [1, 4, 5] else 6\n",
    "        img = cv2.imread(inpath)\n",
    "        gray = cv2.cvtColor(img,cv2.COLOR_BGR2GRAY)\n",
    "        ret, corners = cv2.findChessboardCorners(gray, (nx, ny), None)\n",
    "        if ret:\n",
    "            cv2.drawChessboardCorners(img, (nx, ny), corners, ret)\n",
    "            cv2.imwrite(outpath, img)\n"
   ]
  },
  {
   "cell_type": "code",
   "execution_count": 3,
   "metadata": {
    "collapsed": false,
    "deletable": true,
    "editable": true
   },
   "outputs": [],
   "source": [
    "def catalog_images():\n",
    "    imgs = []\n",
    "    for i in range(1, 4):\n",
    "        inf = {}\n",
    "        inf[\"path\"] = \"./camera_cal/calibration%d.jpg\" % i\n",
    "        inf[\"undist_path\"] = \"./output_images/calibration_undist%d.jpg\" % i\n",
    "        inf[\"nx\"] = 9\n",
    "        inf[\"ny\"] = 5 if i == 1 else 6\n",
    "        imgs.append(inf)\n",
    "    return imgs\n",
    "\n",
    "def calculate_undist():\n",
    "    # make objpoints\n",
    "    # find corners\n",
    "    # calculate distortion\n",
    "    # undistort\n",
    "\n",
    "    imgs = catalog_images()\n",
    "    objpoints = []\n",
    "    imgpoints = []\n",
    "\n",
    "    for inf in imgs:\n",
    "        nx = inf[\"nx\"]\n",
    "        ny = inf[\"ny\"]\n",
    "        imgpath = inf[\"path\"]\n",
    "    \n",
    "        objp = np.zeros((nx*ny,3), np.float32)\n",
    "        objp[:,:2] = np.mgrid[0:nx, 0:ny].T.reshape(-1,2)\n",
    "        \n",
    "        img = cv2.imread(inf[\"path\"])\n",
    "        gray = cv2.cvtColor(img, cv2.COLOR_BGR2GRAY)\n",
    "        \n",
    "        img_size = gray.shape[::-1]\n",
    "        if img_size != (1280, 720):\n",
    "            continue\n",
    "\n",
    "        ret, imgp = cv2.findChessboardCorners(gray, (nx, ny), None)\n",
    "\n",
    "        if not ret:\n",
    "            continue\n",
    "            \n",
    "        objpoints.append(objp)\n",
    "        imgpoints.append(imgp)\n",
    "        \n",
    "    ret, mtx, dist, rvecs, tvecs = cv2.calibrateCamera([objp], [imgp], gray.shape[::-1], None, None)\n",
    "    \n",
    "    for inf in imgs:\n",
    "        nx = inf[\"nx\"]\n",
    "        ny = inf[\"ny\"]\n",
    "        imgpath = inf[\"path\"]\n",
    "        img = cv2.imread(inf[\"path\"])\n",
    "        gray = cv2.cvtColor(img, cv2.COLOR_BGR2GRAY)\n",
    "        img_size = gray.shape[::-1]\n",
    "        if img_size != (1280, 720):\n",
    "            continue\n",
    "        undist = cv2.undistort(img, mtx, dist, None, mtx)\n",
    "        cv2.imwrite(inf[\"undist_path\"], undist)\n",
    "        \n",
    "    return ret, mtx, dist, rvecs, tvecs\n",
    "\n",
    "\n",
    "def test_images():\n",
    "    return [\"./test_images/straight_lines%d.jpg\" % i for i in [1, 2]] + \\\n",
    "           [\"./test_images/test%d.jpg\" % i for i in range(1,7)]\n",
    "    \n",
    "def show_undist():\n",
    "    ret, mtx, dist, rvecs, tvecs = calculate_undist()\n",
    "    ti = test_images()\n",
    "    for path in ti:\n",
    "        img = cv2.imread(path)\n",
    "        try:\n",
    "            undist = cv2.undistort(img, mtx, dist, None, mtx)\n",
    "        except:\n",
    "            print(path)\n",
    "            print(img)\n",
    "            \n",
    "        outpath = path.replace(\"test_images/\", \"output_images/undist_\")\n",
    "        cv2.imwrite(outpath, undist)\n",
    "      \n",
    "\n"
   ]
  },
  {
   "cell_type": "code",
   "execution_count": 4,
   "metadata": {
    "collapsed": false,
    "deletable": true,
    "editable": true
   },
   "outputs": [],
   "source": [
    "show_undist()"
   ]
  },
  {
   "cell_type": "code",
   "execution_count": 5,
   "metadata": {
    "collapsed": false,
    "deletable": true,
    "editable": true
   },
   "outputs": [],
   "source": [
    "output_corners()    \n",
    "    "
   ]
  },
  {
   "cell_type": "code",
   "execution_count": null,
   "metadata": {
    "collapsed": true,
    "deletable": true,
    "editable": true
   },
   "outputs": [],
   "source": []
  }
 ],
 "metadata": {
  "kernelspec": {
   "display_name": "Python 3",
   "language": "python",
   "name": "python3"
  },
  "language_info": {
   "codemirror_mode": {
    "name": "ipython",
    "version": 3
   },
   "file_extension": ".py",
   "mimetype": "text/x-python",
   "name": "python",
   "nbconvert_exporter": "python",
   "pygments_lexer": "ipython3",
   "version": "3.5.2"
  },
  "widgets": {
   "state": {},
   "version": "1.1.2"
  }
 },
 "nbformat": 4,
 "nbformat_minor": 2
}
